{
 "cells": [
  {
   "cell_type": "code",
   "execution_count": 2,
   "id": "8479af4d-44a5-40f1-9c4a-c68d07b2ea8c",
   "metadata": {},
   "outputs": [],
   "source": [
    "import cv2\n",
    "face_classifier = cv2.CascadeClassifier('haarcascade_frontalface_default.xml')"
   ]
  },
  {
   "cell_type": "code",
   "execution_count": 9,
   "id": "24a24c8a-d8cd-4266-8f4c-889ed0bd9437",
   "metadata": {},
   "outputs": [],
   "source": [
    "class Fdac:\n",
    "    \n",
    "    def __init__(self, image):\n",
    "        self.image = cv2.imread(image)\n",
    "        self.face_boxes = face_classifier.detectMultiScale(self.image)\n",
    "\n",
    "\n",
    "    def cropper(self):\n",
    "        count = 0\n",
    "        for box in self.face_boxes:\n",
    "            x, y, width, height = box\n",
    "            x2, y2 = x + width, y + height\n",
    "            roi = self.image[y:y2, x:x2]\n",
    "            cv2.imwrite(f\"cropped_image_{count+1}.png\", roi)\n",
    "            count+=1\n",
    "\n",
    "    def detector(self):\n",
    "        for box in self.face_boxes:\n",
    "            x, y, width, height = box\n",
    "            x2, y2 = x + width, y + height\n",
    "            cv2.rectangle(self.image, (x, y), (x2, y2), color=(0,0,255), thickness=1) #drawing\n",
    "\n",
    "        img_to_show = cv2.resize(self.image, (self.image.shape[1], self.image.shape[0]))\n",
    "        cv2.imshow('face detection, Press \"q\" to escape', img_to_show)\n",
    "        cv2.waitKey(0)\n",
    "        cv2.destroyAllWindows()"
   ]
  },
  {
   "cell_type": "code",
   "execution_count": 13,
   "id": "4b12f6fd-85ca-44f0-82b9-537629909b81",
   "metadata": {},
   "outputs": [],
   "source": [
    "image1 = Fdac('download.jpeg')\n",
    "image1.cropper()"
   ]
  },
  {
   "cell_type": "code",
   "execution_count": null,
   "id": "02766153-b748-480e-beb5-c622a4ff8b9b",
   "metadata": {},
   "outputs": [],
   "source": []
  }
 ],
 "metadata": {
  "kernelspec": {
   "display_name": "Python 3",
   "language": "python",
   "name": "python3"
  },
  "language_info": {
   "codemirror_mode": {
    "name": "ipython",
    "version": 3
   },
   "file_extension": ".py",
   "mimetype": "text/x-python",
   "name": "python",
   "nbconvert_exporter": "python",
   "pygments_lexer": "ipython3",
   "version": "3.8.8"
  }
 },
 "nbformat": 4,
 "nbformat_minor": 5
}
